{
 "cells": [
  {
   "cell_type": "code",
   "execution_count": 3,
   "metadata": {},
   "outputs": [],
   "source": [
    "import warnings; warnings.simplefilter(\"ignore\")\n",
    "import requests, zipfile, io\n",
    "from urllib.request import urlopen\n",
    "import pandas as pd\n",
    "import sklearn.mixture as mix\n",
    "import datetime as dt\n",
    "import numpy as np\n",
    "import scipy.stats as scs\n",
    "\n",
    "import matplotlib as mpl\n",
    "from matplotlib import cm\n",
    "import matplotlib.pyplot as plt\n",
    "from matplotlib.dates import YearLocator, MonthLocator\n",
    "plt.style.use('fivethirtyeight')\n",
    "%matplotlib inline\n",
    "\n",
    "import seaborn as sns\n",
    "# pip install missingno\n",
    "import missingno as msno\n",
    "from tqdm import tqdm\n",
    "p = print"
   ]
  },
  {
   "cell_type": "code",
   "execution_count": 17,
   "metadata": {
    "scrolled": true
   },
   "outputs": [
    {
     "name": "stdout",
     "output_type": "stream",
     "text": [
      "                  SPY      sret\n",
      "2005-01-03  86.004448       NaN\n",
      "2005-01-04  84.953499 -0.012295\n",
      "2005-01-05  84.367264 -0.006925\n",
      "2005-01-06  84.796242  0.005072\n",
      "2005-01-07  84.674660 -0.001435\n"
     ]
    },
    {
     "data": {
      "text/plain": [
       "<matplotlib.axes._subplots.AxesSubplot at 0x281328eabb0>"
      ]
     },
     "execution_count": 17,
     "metadata": {},
     "output_type": "execute_result"
    },
    {
     "data": {
      "image/png": "[encoded data removed]",
      "text/plain": [
       "<Figure size 432x288 with 1 Axes>"
      ]
     },
     "metadata": {
      "needs_background": "light"
     },
     "output_type": "display_data"
    }
   ],
   "source": [
    "def getYahoo(symbol,start_dt,end_dt):\n",
    "    dt_start = int(dt.datetime.strptime(start_dt,'%Y-%m-%d').timestamp())\n",
    "    dt_end = int(dt.datetime.strptime(end_dt,'%Y-%m-%d').timestamp())\n",
    "    url='https://query1.finance.yahoo.com/v7/finance/download/'\n",
    "    url+=symbol\n",
    "    url+='?period1='\n",
    "    url+=str(dt_start)\n",
    "    url+='&period2='\n",
    "    url+=str(dt_end)\n",
    "    url+='&interval=1d&events=history&includeAdjustedClose=true'\n",
    "    #print(url)\n",
    "    mfile=urlopen(url)\n",
    "    dfm = pd.read_csv(mfile,index_col=0,header=0)\n",
    "    dfm.index = [dt.datetime.strptime(str(date)[0:10],\"%Y-%m-%d\") for date in dfm.index.values]\n",
    "    return dfm\n",
    "start_date = \"2005-01-01\"\n",
    "end_date = \"2021-02-13\"\n",
    "dfa = getYahoo(\"SPY\",start_date, end_date)\n",
    "dfa = dfa[[\"Adj Close\"]]\n",
    "dfb = np.log(dfa[\"Adj Close\"]/dfa[\"Adj Close\"].shift(1)).dropna()\n",
    "dfa = pd.concat([dfa,dfb],axis=1)\n",
    "dfa.columns = [\"SPY\",\"sret\"]\n",
    "print(dfa.head())\n",
    "dfa[[\"SPY\"]].plot()"
   ]
  }
 ],
 "metadata": {
  "kernelspec": {
   "display_name": "Python 3",
   "language": "python",
   "name": "python3"
  },
  "language_info": {
   "codemirror_mode": {
    "name": "ipython",
    "version": 3
   },
   "file_extension": ".py",
   "mimetype": "text/x-python",
   "name": "python",
   "nbconvert_exporter": "python",
   "pygments_lexer": "ipython3",
   "version": "3.8.3"
  },
  "toc": {
   "base_numbering": 1,
   "nav_menu": {},
   "number_sections": true,
   "sideBar": true,
   "skip_h1_title": false,
   "title_cell": "Table of Contents",
   "title_sidebar": "Contents",
   "toc_cell": false,
   "toc_position": {},
   "toc_section_display": true,
   "toc_window_display": false
  }
 },
 "nbformat": 4,
 "nbformat_minor": 4
}
